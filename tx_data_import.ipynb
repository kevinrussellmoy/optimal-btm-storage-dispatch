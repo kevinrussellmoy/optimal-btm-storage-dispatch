{
 "cells": [
  {
   "cell_type": "markdown",
   "metadata": {},
   "source": [
    "Code to import and clean (if necessary) data for the selected California homes in pecan_street_metadata_analysis"
   ]
  },
  {
   "cell_type": "code",
   "execution_count": 1,
   "metadata": {},
   "outputs": [],
   "source": [
    "import numpy as np\n",
    "import pandas as pd\n",
    "import matplotlib.pyplot as plt\n",
    "\n",
    "# Plot formatting defaults\n",
    "plt.rc('ytick', direction='out')\n",
    "plt.rc('grid', color='w', linestyle='solid')\n",
    "plt.rcParams['figure.figsize'] = [10, 8]\n",
    "plt.rcParams.update({'font.size': 22})\n",
    "plt.rc('xtick', direction='out')\n",
    "plt.rc('patch', edgecolor='#E6E6E6')\n",
    "plt.rc('lines', linewidth=2)"
   ]
  },
  {
   "cell_type": "code",
   "execution_count": 2,
   "metadata": {},
   "outputs": [],
   "source": [
    "tx_ids = pd.read_csv('tx_ids.csv', header=None)"
   ]
  },
  {
   "cell_type": "code",
   "execution_count": 3,
   "metadata": {},
   "outputs": [],
   "source": [
    "tx_ids = tx_ids[0].to_list()"
   ]
  },
  {
   "cell_type": "code",
   "execution_count": 4,
   "metadata": {},
   "outputs": [
    {
     "data": {
      "text/plain": [
       "[8707, 974, 2925, 6836, 5403]"
      ]
     },
     "execution_count": 4,
     "metadata": {},
     "output_type": "execute_result"
    }
   ],
   "source": [
    "tx_ids"
   ]
  },
  {
   "cell_type": "code",
   "execution_count": 5,
   "metadata": {},
   "outputs": [],
   "source": [
    "df = pd.read_csv('15minute_data_austin.csv')\n",
    "df = df[['dataid', 'local_15min', 'battery1', 'grid', 'solar', 'solar2']]\n",
    "                   "
   ]
  },
  {
   "cell_type": "code",
   "execution_count": 15,
   "metadata": {},
   "outputs": [],
   "source": [
    "# df2 = df.loc[df.dataid.astype(int).isin(tx_ids)]\n",
    "df2 = df.loc[df.solar.notnull()]\n",
    "\n"
   ]
  },
  {
   "cell_type": "code",
   "execution_count": 16,
   "metadata": {},
   "outputs": [
    {
     "data": {
      "text/plain": [
       "Index(['dataid', 'local_15min', 'battery1', 'grid', 'solar', 'solar2'], dtype='object')"
      ]
     },
     "execution_count": 16,
     "metadata": {},
     "output_type": "execute_result"
    }
   ],
   "source": [
    "df.columns"
   ]
  },
  {
   "cell_type": "code",
   "execution_count": 17,
   "metadata": {},
   "outputs": [
    {
     "data": {
      "text/html": [
       "<div>\n",
       "<style scoped>\n",
       "    .dataframe tbody tr th:only-of-type {\n",
       "        vertical-align: middle;\n",
       "    }\n",
       "\n",
       "    .dataframe tbody tr th {\n",
       "        vertical-align: top;\n",
       "    }\n",
       "\n",
       "    .dataframe thead th {\n",
       "        text-align: right;\n",
       "    }\n",
       "</style>\n",
       "<table border=\"1\" class=\"dataframe\">\n",
       "  <thead>\n",
       "    <tr style=\"text-align: right;\">\n",
       "      <th></th>\n",
       "      <th>dataid</th>\n",
       "      <th>local_15min</th>\n",
       "      <th>battery1</th>\n",
       "      <th>grid</th>\n",
       "      <th>solar</th>\n",
       "      <th>solar2</th>\n",
       "    </tr>\n",
       "  </thead>\n",
       "  <tbody>\n",
       "    <tr>\n",
       "      <th>0</th>\n",
       "      <td>661</td>\n",
       "      <td>2018-11-21 15:15:00-06</td>\n",
       "      <td>NaN</td>\n",
       "      <td>0.124</td>\n",
       "      <td>0.276</td>\n",
       "      <td>NaN</td>\n",
       "    </tr>\n",
       "    <tr>\n",
       "      <th>1</th>\n",
       "      <td>661</td>\n",
       "      <td>2018-11-21 15:30:00-06</td>\n",
       "      <td>NaN</td>\n",
       "      <td>0.251</td>\n",
       "      <td>0.167</td>\n",
       "      <td>NaN</td>\n",
       "    </tr>\n",
       "    <tr>\n",
       "      <th>2</th>\n",
       "      <td>661</td>\n",
       "      <td>2018-11-21 15:45:00-06</td>\n",
       "      <td>NaN</td>\n",
       "      <td>0.419</td>\n",
       "      <td>0.179</td>\n",
       "      <td>NaN</td>\n",
       "    </tr>\n",
       "    <tr>\n",
       "      <th>3</th>\n",
       "      <td>661</td>\n",
       "      <td>2018-11-21 16:00:00-06</td>\n",
       "      <td>NaN</td>\n",
       "      <td>0.833</td>\n",
       "      <td>0.076</td>\n",
       "      <td>NaN</td>\n",
       "    </tr>\n",
       "    <tr>\n",
       "      <th>4</th>\n",
       "      <td>661</td>\n",
       "      <td>2018-11-21 16:15:00-06</td>\n",
       "      <td>NaN</td>\n",
       "      <td>1.105</td>\n",
       "      <td>0.064</td>\n",
       "      <td>NaN</td>\n",
       "    </tr>\n",
       "  </tbody>\n",
       "</table>\n",
       "</div>"
      ],
      "text/plain": [
       "   dataid             local_15min  battery1   grid  solar  solar2\n",
       "0     661  2018-11-21 15:15:00-06       NaN  0.124  0.276     NaN\n",
       "1     661  2018-11-21 15:30:00-06       NaN  0.251  0.167     NaN\n",
       "2     661  2018-11-21 15:45:00-06       NaN  0.419  0.179     NaN\n",
       "3     661  2018-11-21 16:00:00-06       NaN  0.833  0.076     NaN\n",
       "4     661  2018-11-21 16:15:00-06       NaN  1.105  0.064     NaN"
      ]
     },
     "execution_count": 17,
     "metadata": {},
     "output_type": "execute_result"
    }
   ],
   "source": [
    "df.head()"
   ]
  },
  {
   "cell_type": "code",
   "execution_count": 18,
   "metadata": {},
   "outputs": [
    {
     "data": {
      "text/html": [
       "<div>\n",
       "<style scoped>\n",
       "    .dataframe tbody tr th:only-of-type {\n",
       "        vertical-align: middle;\n",
       "    }\n",
       "\n",
       "    .dataframe tbody tr th {\n",
       "        vertical-align: top;\n",
       "    }\n",
       "\n",
       "    .dataframe thead th {\n",
       "        text-align: right;\n",
       "    }\n",
       "</style>\n",
       "<table border=\"1\" class=\"dataframe\">\n",
       "  <thead>\n",
       "    <tr style=\"text-align: right;\">\n",
       "      <th></th>\n",
       "      <th>dataid</th>\n",
       "      <th>local_15min</th>\n",
       "      <th>battery1</th>\n",
       "      <th>grid</th>\n",
       "      <th>solar</th>\n",
       "      <th>solar2</th>\n",
       "    </tr>\n",
       "  </thead>\n",
       "  <tbody>\n",
       "    <tr>\n",
       "      <th>0</th>\n",
       "      <td>661</td>\n",
       "      <td>2018-11-21 15:15:00-06</td>\n",
       "      <td>NaN</td>\n",
       "      <td>0.124</td>\n",
       "      <td>0.276</td>\n",
       "      <td>NaN</td>\n",
       "    </tr>\n",
       "    <tr>\n",
       "      <th>1</th>\n",
       "      <td>661</td>\n",
       "      <td>2018-11-21 15:30:00-06</td>\n",
       "      <td>NaN</td>\n",
       "      <td>0.251</td>\n",
       "      <td>0.167</td>\n",
       "      <td>NaN</td>\n",
       "    </tr>\n",
       "    <tr>\n",
       "      <th>2</th>\n",
       "      <td>661</td>\n",
       "      <td>2018-11-21 15:45:00-06</td>\n",
       "      <td>NaN</td>\n",
       "      <td>0.419</td>\n",
       "      <td>0.179</td>\n",
       "      <td>NaN</td>\n",
       "    </tr>\n",
       "    <tr>\n",
       "      <th>3</th>\n",
       "      <td>661</td>\n",
       "      <td>2018-11-21 16:00:00-06</td>\n",
       "      <td>NaN</td>\n",
       "      <td>0.833</td>\n",
       "      <td>0.076</td>\n",
       "      <td>NaN</td>\n",
       "    </tr>\n",
       "    <tr>\n",
       "      <th>4</th>\n",
       "      <td>661</td>\n",
       "      <td>2018-11-21 16:15:00-06</td>\n",
       "      <td>NaN</td>\n",
       "      <td>1.105</td>\n",
       "      <td>0.064</td>\n",
       "      <td>NaN</td>\n",
       "    </tr>\n",
       "  </tbody>\n",
       "</table>\n",
       "</div>"
      ],
      "text/plain": [
       "   dataid             local_15min  battery1   grid  solar  solar2\n",
       "0     661  2018-11-21 15:15:00-06       NaN  0.124  0.276     NaN\n",
       "1     661  2018-11-21 15:30:00-06       NaN  0.251  0.167     NaN\n",
       "2     661  2018-11-21 15:45:00-06       NaN  0.419  0.179     NaN\n",
       "3     661  2018-11-21 16:00:00-06       NaN  0.833  0.076     NaN\n",
       "4     661  2018-11-21 16:15:00-06       NaN  1.105  0.064     NaN"
      ]
     },
     "execution_count": 18,
     "metadata": {},
     "output_type": "execute_result"
    }
   ],
   "source": [
    "df2.head()"
   ]
  },
  {
   "cell_type": "code",
   "execution_count": 19,
   "metadata": {},
   "outputs": [
    {
     "data": {
      "text/plain": [
       "array([ 661, 1642, 2335, 2361, 2818, 3039, 3456, 3538, 4031, 4373, 4767,\n",
       "       5746, 6139, 7536, 7719, 7800, 8156, 9019, 9160, 9278])"
      ]
     },
     "execution_count": 19,
     "metadata": {},
     "output_type": "execute_result"
    }
   ],
   "source": [
    "df2.dataid.unique()"
   ]
  },
  {
   "cell_type": "code",
   "execution_count": null,
   "metadata": {},
   "outputs": [],
   "source": []
  }
 ],
 "metadata": {
  "interpreter": {
   "hash": "0ba65a70a05ccd86223b5198e0f77d235c77b3735aba577475f078c959d11cca"
  },
  "kernelspec": {
   "display_name": "Python 3.9.5 ('tensorflow')",
   "language": "python",
   "name": "python3"
  },
  "language_info": {
   "codemirror_mode": {
    "name": "ipython",
    "version": 3
   },
   "file_extension": ".py",
   "mimetype": "text/x-python",
   "name": "python",
   "nbconvert_exporter": "python",
   "pygments_lexer": "ipython3",
   "version": "3.9.5"
  },
  "orig_nbformat": 4
 },
 "nbformat": 4,
 "nbformat_minor": 2
}
