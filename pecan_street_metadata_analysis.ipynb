{
 "cells": [
  {
   "cell_type": "markdown",
   "metadata": {},
   "source": [
    "Code to analyze metadata and select house-resident IDs for further analysis from Pecan Street's Dataport"
   ]
  },
  {
   "cell_type": "code",
   "execution_count": 1,
   "metadata": {},
   "outputs": [],
   "source": [
    "import pandas as pd\n",
    "import numpy as np"
   ]
  },
  {
   "cell_type": "code",
   "execution_count": 2,
   "metadata": {},
   "outputs": [],
   "source": [
    "# Import dataframe, remove column descriptions, and set index to dataid\n",
    "metadata_df = pd.read_csv('metadata.csv')\n",
    "metadata_df.drop(labels=0, axis=0, inplace=True)\n",
    "metadata_df.set_index('dataid',inplace=True)\n",
    "\n",
    "# Keep only relevant columns and drop all others\n",
    "metadata_df = metadata_df[['city', 'state', 'egauge_1min_min_time', 'egauge_1min_max_time', \n",
    "                   'egauge_1min_data_availability', 'battery1', 'grid', 'solar', 'pv', 'total_amount_of_pv' ]]\n",
    "                   \n",
    "# Convert relevant columns to floats\n",
    "metadata_df.egauge_1min_data_availability = metadata_df.egauge_1min_data_availability.str.rstrip('%').astype('float') / 100.0\n",
    "\n",
    "# Only keep rows with >95% data availability (assuming we can impute values later)\n",
    "metadata_df = metadata_df.loc[metadata_df.egauge_1min_data_availability >= 0.95]\n",
    "\n",
    "# Only keep rows with grid data (the minimum amount of data that we need!)\n",
    "metadata_df = metadata_df.loc[metadata_df.grid == 'yes']\n"
   ]
  },
  {
   "cell_type": "code",
   "execution_count": 3,
   "metadata": {},
   "outputs": [],
   "source": [
    "# Get all Texas houses with batteries\n",
    "tx_df = metadata_df.loc[(metadata_df.state == 'Texas') & (metadata_df.battery1 == 'yes')]"
   ]
  },
  {
   "cell_type": "code",
   "execution_count": 4,
   "metadata": {},
   "outputs": [],
   "source": [
    "# Get all California houses with grid and PV data available\n",
    "ca_df = metadata_df.loc[(metadata_df.state == 'California') & (metadata_df.grid == 'yes')]\n",
    "# ca_df = metadata_df.loc[(metadata_df.state == 'California') & (metadata_df.grid == 'yes') & (metadata_df.solar == 'yes')]"
   ]
  },
  {
   "cell_type": "code",
   "execution_count": 75,
   "metadata": {},
   "outputs": [],
   "source": [
    "# Save IDs to csv to retrieve 15-minute data from\n",
    "tx_df.to_csv('tx_ids.csv', columns=[], header=False)\n",
    "ca_df.to_csv('ca_ids.csv', columns=[], header=False)"
   ]
  },
  {
   "cell_type": "code",
   "execution_count": null,
   "metadata": {},
   "outputs": [],
   "source": [
    "ca_df"
   ]
  },
  {
   "cell_type": "code",
   "execution_count": 18,
   "metadata": {},
   "outputs": [
    {
     "data": {
      "text/html": [
       "<div>\n",
       "<style scoped>\n",
       "    .dataframe tbody tr th:only-of-type {\n",
       "        vertical-align: middle;\n",
       "    }\n",
       "\n",
       "    .dataframe tbody tr th {\n",
       "        vertical-align: top;\n",
       "    }\n",
       "\n",
       "    .dataframe thead th {\n",
       "        text-align: right;\n",
       "    }\n",
       "</style>\n",
       "<table border=\"1\" class=\"dataframe\">\n",
       "  <thead>\n",
       "    <tr style=\"text-align: right;\">\n",
       "      <th></th>\n",
       "      <th>city</th>\n",
       "      <th>state</th>\n",
       "      <th>egauge_1min_min_time</th>\n",
       "      <th>egauge_1min_max_time</th>\n",
       "      <th>egauge_1min_data_availability</th>\n",
       "      <th>battery1</th>\n",
       "      <th>grid</th>\n",
       "      <th>solar</th>\n",
       "      <th>pv</th>\n",
       "      <th>total_amount_of_pv</th>\n",
       "    </tr>\n",
       "    <tr>\n",
       "      <th>dataid</th>\n",
       "      <th></th>\n",
       "      <th></th>\n",
       "      <th></th>\n",
       "      <th></th>\n",
       "      <th></th>\n",
       "      <th></th>\n",
       "      <th></th>\n",
       "      <th></th>\n",
       "      <th></th>\n",
       "      <th></th>\n",
       "    </tr>\n",
       "  </thead>\n",
       "  <tbody>\n",
       "    <tr>\n",
       "      <th>8342</th>\n",
       "      <td>San Diego</td>\n",
       "      <td>California</td>\n",
       "      <td>2013-10-22 19:00:00-05:00</td>\n",
       "      <td>2020-08-30 02:59:00-05:00</td>\n",
       "      <td>1.0</td>\n",
       "      <td>NaN</td>\n",
       "      <td>yes</td>\n",
       "      <td>NaN</td>\n",
       "      <td>NaN</td>\n",
       "      <td>NaN</td>\n",
       "    </tr>\n",
       "  </tbody>\n",
       "</table>\n",
       "</div>"
      ],
      "text/plain": [
       "             city       state       egauge_1min_min_time  \\\n",
       "dataid                                                     \n",
       "8342    San Diego  California  2013-10-22 19:00:00-05:00   \n",
       "\n",
       "             egauge_1min_max_time  egauge_1min_data_availability battery1  \\\n",
       "dataid                                                                      \n",
       "8342    2020-08-30 02:59:00-05:00                            1.0      NaN   \n",
       "\n",
       "       grid solar   pv total_amount_of_pv  \n",
       "dataid                                     \n",
       "8342    yes   NaN  NaN                NaN  "
      ]
     },
     "execution_count": 18,
     "metadata": {},
     "output_type": "execute_result"
    }
   ],
   "source": [
    "metadata_df.loc[metadata_df.index == '8342']"
   ]
  },
  {
   "cell_type": "code",
   "execution_count": null,
   "metadata": {},
   "outputs": [],
   "source": []
  }
 ],
 "metadata": {
  "interpreter": {
   "hash": "0ba65a70a05ccd86223b5198e0f77d235c77b3735aba577475f078c959d11cca"
  },
  "kernelspec": {
   "display_name": "Python 3.9.5 ('tensorflow')",
   "language": "python",
   "name": "python3"
  },
  "language_info": {
   "codemirror_mode": {
    "name": "ipython",
    "version": 3
   },
   "file_extension": ".py",
   "mimetype": "text/x-python",
   "name": "python",
   "nbconvert_exporter": "python",
   "pygments_lexer": "ipython3",
   "version": "3.9.5"
  },
  "orig_nbformat": 4
 },
 "nbformat": 4,
 "nbformat_minor": 2
}
