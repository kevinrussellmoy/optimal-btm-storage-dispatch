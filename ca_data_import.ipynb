{
 "cells": [
  {
   "cell_type": "markdown",
   "metadata": {},
   "source": [
    "Code to import and clean (if necessary) data for the selected California homes in pecan_street_metadata_analysis"
   ]
  },
  {
   "cell_type": "code",
   "execution_count": 5,
   "metadata": {},
   "outputs": [],
   "source": [
    "import numpy as np\n",
    "import pandas as pd\n",
    "import matplotlib.pyplot as plt\n",
    "\n",
    "# Plot formatting defaults\n",
    "plt.rc('ytick', direction='out')\n",
    "plt.rc('grid', color='w', linestyle='solid')\n",
    "plt.rcParams['figure.figsize'] = [10, 8]\n",
    "plt.rcParams.update({'font.size': 22})\n",
    "plt.rc('xtick', direction='out')\n",
    "plt.rc('patch', edgecolor='#E6E6E6')\n",
    "plt.rc('lines', linewidth=2)"
   ]
  },
  {
   "cell_type": "code",
   "execution_count": null,
   "metadata": {},
   "outputs": [],
   "source": [
    "ca_ids = pd.read_csv('ca_ids.csv', header=None)"
   ]
  },
  {
   "cell_type": "code",
   "execution_count": 44,
   "metadata": {},
   "outputs": [],
   "source": [
    "ca_ids = ca_ids[0].to_list()"
   ]
  },
  {
   "cell_type": "code",
   "execution_count": 48,
   "metadata": {},
   "outputs": [
    {
     "data": {
      "text/plain": [
       "[11896, 2354, 4509, 4315, 11, 4622, 9477, 8277, 11478, 8908, 9221, 864, 3637]"
      ]
     },
     "execution_count": 48,
     "metadata": {},
     "output_type": "execute_result"
    }
   ],
   "source": [
    "ca_ids"
   ]
  },
  {
   "cell_type": "code",
   "execution_count": 33,
   "metadata": {},
   "outputs": [],
   "source": [
    "df = pd.read_csv('15minute_data_california.csv')\n",
    "df = df[['dataid', 'local_15min', 'battery1', 'grid', 'solar', 'solar2']]\n",
    "                   "
   ]
  },
  {
   "cell_type": "code",
   "execution_count": 49,
   "metadata": {},
   "outputs": [],
   "source": [
    "# df2 = df.loc[df.dataid.astype(int).isin(ca_ids)]\n",
    "# TODO: Why are none of the IDs I want in the dataset???\n",
    "\n",
    "df2 = df.loc[df.solar.notnull()]\n",
    "\n"
   ]
  },
  {
   "cell_type": "code",
   "execution_count": 45,
   "metadata": {},
   "outputs": [
    {
     "data": {
      "text/plain": [
       "0         False\n",
       "1         False\n",
       "2         False\n",
       "3         False\n",
       "4         False\n",
       "          ...  \n",
       "805519    False\n",
       "805520    False\n",
       "805521    False\n",
       "805522    False\n",
       "805523    False\n",
       "Name: dataid, Length: 805524, dtype: bool"
      ]
     },
     "execution_count": 45,
     "metadata": {},
     "output_type": "execute_result"
    }
   ],
   "source": [
    "df.dataid.astype(int).isin(ca_ids)"
   ]
  },
  {
   "cell_type": "code",
   "execution_count": 24,
   "metadata": {},
   "outputs": [
    {
     "data": {
      "text/plain": [
       "Index(['dataid', 'local_15min', 'battery1', 'grid', 'solar', 'solar2'], dtype='object')"
      ]
     },
     "execution_count": 24,
     "metadata": {},
     "output_type": "execute_result"
    }
   ],
   "source": [
    "df.columns"
   ]
  },
  {
   "cell_type": "code",
   "execution_count": 25,
   "metadata": {},
   "outputs": [
    {
     "data": {
      "text/html": [
       "<div>\n",
       "<style scoped>\n",
       "    .dataframe tbody tr th:only-of-type {\n",
       "        vertical-align: middle;\n",
       "    }\n",
       "\n",
       "    .dataframe tbody tr th {\n",
       "        vertical-align: top;\n",
       "    }\n",
       "\n",
       "    .dataframe thead th {\n",
       "        text-align: right;\n",
       "    }\n",
       "</style>\n",
       "<table border=\"1\" class=\"dataframe\">\n",
       "  <thead>\n",
       "    <tr style=\"text-align: right;\">\n",
       "      <th></th>\n",
       "      <th>dataid</th>\n",
       "      <th>local_15min</th>\n",
       "      <th>battery1</th>\n",
       "      <th>grid</th>\n",
       "      <th>solar</th>\n",
       "      <th>solar2</th>\n",
       "    </tr>\n",
       "  </thead>\n",
       "  <tbody>\n",
       "    <tr>\n",
       "      <th>0</th>\n",
       "      <td>3687</td>\n",
       "      <td>2014-01-01 00:00:00-06</td>\n",
       "      <td>NaN</td>\n",
       "      <td>1.717</td>\n",
       "      <td>NaN</td>\n",
       "      <td>NaN</td>\n",
       "    </tr>\n",
       "    <tr>\n",
       "      <th>1</th>\n",
       "      <td>3687</td>\n",
       "      <td>2014-01-01 00:15:00-06</td>\n",
       "      <td>NaN</td>\n",
       "      <td>1.905</td>\n",
       "      <td>NaN</td>\n",
       "      <td>NaN</td>\n",
       "    </tr>\n",
       "    <tr>\n",
       "      <th>2</th>\n",
       "      <td>3687</td>\n",
       "      <td>2014-01-01 00:30:00-06</td>\n",
       "      <td>NaN</td>\n",
       "      <td>1.923</td>\n",
       "      <td>NaN</td>\n",
       "      <td>NaN</td>\n",
       "    </tr>\n",
       "    <tr>\n",
       "      <th>3</th>\n",
       "      <td>3687</td>\n",
       "      <td>2014-01-01 00:45:00-06</td>\n",
       "      <td>NaN</td>\n",
       "      <td>1.535</td>\n",
       "      <td>NaN</td>\n",
       "      <td>NaN</td>\n",
       "    </tr>\n",
       "    <tr>\n",
       "      <th>4</th>\n",
       "      <td>3687</td>\n",
       "      <td>2014-01-01 01:00:00-06</td>\n",
       "      <td>NaN</td>\n",
       "      <td>1.010</td>\n",
       "      <td>NaN</td>\n",
       "      <td>NaN</td>\n",
       "    </tr>\n",
       "  </tbody>\n",
       "</table>\n",
       "</div>"
      ],
      "text/plain": [
       "   dataid             local_15min  battery1   grid  solar  solar2\n",
       "0    3687  2014-01-01 00:00:00-06       NaN  1.717    NaN     NaN\n",
       "1    3687  2014-01-01 00:15:00-06       NaN  1.905    NaN     NaN\n",
       "2    3687  2014-01-01 00:30:00-06       NaN  1.923    NaN     NaN\n",
       "3    3687  2014-01-01 00:45:00-06       NaN  1.535    NaN     NaN\n",
       "4    3687  2014-01-01 01:00:00-06       NaN  1.010    NaN     NaN"
      ]
     },
     "execution_count": 25,
     "metadata": {},
     "output_type": "execute_result"
    }
   ],
   "source": [
    "df.head()"
   ]
  },
  {
   "cell_type": "code",
   "execution_count": 50,
   "metadata": {},
   "outputs": [
    {
     "data": {
      "text/html": [
       "<div>\n",
       "<style scoped>\n",
       "    .dataframe tbody tr th:only-of-type {\n",
       "        vertical-align: middle;\n",
       "    }\n",
       "\n",
       "    .dataframe tbody tr th {\n",
       "        vertical-align: top;\n",
       "    }\n",
       "\n",
       "    .dataframe thead th {\n",
       "        text-align: right;\n",
       "    }\n",
       "</style>\n",
       "<table border=\"1\" class=\"dataframe\">\n",
       "  <thead>\n",
       "    <tr style=\"text-align: right;\">\n",
       "      <th></th>\n",
       "      <th>dataid</th>\n",
       "      <th>local_15min</th>\n",
       "      <th>battery1</th>\n",
       "      <th>grid</th>\n",
       "      <th>solar</th>\n",
       "      <th>solar2</th>\n",
       "    </tr>\n",
       "  </thead>\n",
       "  <tbody>\n",
       "    <tr>\n",
       "      <th>392516</th>\n",
       "      <td>1731</td>\n",
       "      <td>2018-03-16 05:00:00-05</td>\n",
       "      <td>NaN</td>\n",
       "      <td>0.226</td>\n",
       "      <td>0.0</td>\n",
       "      <td>NaN</td>\n",
       "    </tr>\n",
       "    <tr>\n",
       "      <th>392517</th>\n",
       "      <td>1731</td>\n",
       "      <td>2018-03-16 05:15:00-05</td>\n",
       "      <td>NaN</td>\n",
       "      <td>0.257</td>\n",
       "      <td>0.0</td>\n",
       "      <td>NaN</td>\n",
       "    </tr>\n",
       "    <tr>\n",
       "      <th>392518</th>\n",
       "      <td>1731</td>\n",
       "      <td>2018-03-16 05:30:00-05</td>\n",
       "      <td>NaN</td>\n",
       "      <td>0.163</td>\n",
       "      <td>0.0</td>\n",
       "      <td>NaN</td>\n",
       "    </tr>\n",
       "    <tr>\n",
       "      <th>392519</th>\n",
       "      <td>1731</td>\n",
       "      <td>2018-03-16 05:45:00-05</td>\n",
       "      <td>NaN</td>\n",
       "      <td>0.174</td>\n",
       "      <td>0.0</td>\n",
       "      <td>NaN</td>\n",
       "    </tr>\n",
       "    <tr>\n",
       "      <th>392520</th>\n",
       "      <td>1731</td>\n",
       "      <td>2018-03-16 06:00:00-05</td>\n",
       "      <td>NaN</td>\n",
       "      <td>0.182</td>\n",
       "      <td>0.0</td>\n",
       "      <td>NaN</td>\n",
       "    </tr>\n",
       "  </tbody>\n",
       "</table>\n",
       "</div>"
      ],
      "text/plain": [
       "        dataid             local_15min  battery1   grid  solar  solar2\n",
       "392516    1731  2018-03-16 05:00:00-05       NaN  0.226    0.0     NaN\n",
       "392517    1731  2018-03-16 05:15:00-05       NaN  0.257    0.0     NaN\n",
       "392518    1731  2018-03-16 05:30:00-05       NaN  0.163    0.0     NaN\n",
       "392519    1731  2018-03-16 05:45:00-05       NaN  0.174    0.0     NaN\n",
       "392520    1731  2018-03-16 06:00:00-05       NaN  0.182    0.0     NaN"
      ]
     },
     "execution_count": 50,
     "metadata": {},
     "output_type": "execute_result"
    }
   ],
   "source": [
    "df2.head()"
   ]
  },
  {
   "cell_type": "code",
   "execution_count": 51,
   "metadata": {},
   "outputs": [
    {
     "data": {
      "text/plain": [
       "array([1731, 4495, 8342, 9836])"
      ]
     },
     "execution_count": 51,
     "metadata": {},
     "output_type": "execute_result"
    }
   ],
   "source": [
    "df2.dataid.unique()"
   ]
  },
  {
   "cell_type": "code",
   "execution_count": null,
   "metadata": {},
   "outputs": [],
   "source": []
  }
 ],
 "metadata": {
  "interpreter": {
   "hash": "0ba65a70a05ccd86223b5198e0f77d235c77b3735aba577475f078c959d11cca"
  },
  "kernelspec": {
   "display_name": "Python 3.9.5 ('tensorflow')",
   "language": "python",
   "name": "python3"
  },
  "language_info": {
   "codemirror_mode": {
    "name": "ipython",
    "version": 3
   },
   "file_extension": ".py",
   "mimetype": "text/x-python",
   "name": "python",
   "nbconvert_exporter": "python",
   "pygments_lexer": "ipython3",
   "version": "3.9.5"
  },
  "orig_nbformat": 4
 },
 "nbformat": 4,
 "nbformat_minor": 2
}
