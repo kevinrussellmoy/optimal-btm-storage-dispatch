{
 "cells": [
  {
   "cell_type": "markdown",
   "metadata": {},
   "source": [
    "Code to import and clean (if necessary) data for the selected California homes in pecan_street_metadata_analysis"
   ]
  },
  {
   "cell_type": "code",
   "execution_count": 1,
   "metadata": {},
   "outputs": [],
   "source": [
    "import numpy as np\n",
    "import pandas as pd\n",
    "import matplotlib.pyplot as plt\n",
    "\n",
    "# Plot formatting defaults\n",
    "plt.rc('ytick', direction='out')\n",
    "plt.rc('grid', color='w', linestyle='solid')\n",
    "plt.rcParams['figure.figsize'] = [10, 8]\n",
    "plt.rcParams.update({'font.size': 22})\n",
    "plt.rc('xtick', direction='out')\n",
    "plt.rc('patch', edgecolor='#E6E6E6')\n",
    "plt.rc('lines', linewidth=2)"
   ]
  },
  {
   "cell_type": "code",
   "execution_count": 2,
   "metadata": {},
   "outputs": [],
   "source": [
    "ca_ids = pd.read_csv('ca_ids.csv', header=None)"
   ]
  },
  {
   "cell_type": "code",
   "execution_count": 3,
   "metadata": {},
   "outputs": [],
   "source": [
    "ca_ids = ca_ids[0].to_list()"
   ]
  },
  {
   "cell_type": "code",
   "execution_count": 4,
   "metadata": {},
   "outputs": [
    {
     "data": {
      "text/plain": [
       "[11896, 2354, 4509, 4315, 11, 4622, 9477, 8277, 11478, 8908, 9221, 864, 3637]"
      ]
     },
     "execution_count": 4,
     "metadata": {},
     "output_type": "execute_result"
    }
   ],
   "source": [
    "ca_ids"
   ]
  },
  {
   "cell_type": "code",
   "execution_count": 27,
   "metadata": {},
   "outputs": [
    {
     "data": {
      "text/html": [
       "<div>\n",
       "<style scoped>\n",
       "    .dataframe tbody tr th:only-of-type {\n",
       "        vertical-align: middle;\n",
       "    }\n",
       "\n",
       "    .dataframe tbody tr th {\n",
       "        vertical-align: top;\n",
       "    }\n",
       "\n",
       "    .dataframe thead th {\n",
       "        text-align: right;\n",
       "    }\n",
       "</style>\n",
       "<table border=\"1\" class=\"dataframe\">\n",
       "  <thead>\n",
       "    <tr style=\"text-align: right;\">\n",
       "      <th></th>\n",
       "      <th>dataid</th>\n",
       "      <th>local_15min</th>\n",
       "      <th>air1</th>\n",
       "      <th>air2</th>\n",
       "      <th>air3</th>\n",
       "      <th>airwindowunit1</th>\n",
       "      <th>aquarium1</th>\n",
       "      <th>bathroom1</th>\n",
       "      <th>bathroom2</th>\n",
       "      <th>bedroom1</th>\n",
       "      <th>...</th>\n",
       "      <th>sprinkler1</th>\n",
       "      <th>sumppump1</th>\n",
       "      <th>utilityroom1</th>\n",
       "      <th>venthood1</th>\n",
       "      <th>waterheater1</th>\n",
       "      <th>waterheater2</th>\n",
       "      <th>wellpump1</th>\n",
       "      <th>winecooler1</th>\n",
       "      <th>leg1v</th>\n",
       "      <th>leg2v</th>\n",
       "    </tr>\n",
       "  </thead>\n",
       "  <tbody>\n",
       "    <tr>\n",
       "      <th>0</th>\n",
       "      <td>3687</td>\n",
       "      <td>2014-01-01 00:00:00-06</td>\n",
       "      <td>0.0</td>\n",
       "      <td>NaN</td>\n",
       "      <td>NaN</td>\n",
       "      <td>NaN</td>\n",
       "      <td>NaN</td>\n",
       "      <td>NaN</td>\n",
       "      <td>NaN</td>\n",
       "      <td>NaN</td>\n",
       "      <td>...</td>\n",
       "      <td>NaN</td>\n",
       "      <td>NaN</td>\n",
       "      <td>NaN</td>\n",
       "      <td>NaN</td>\n",
       "      <td>NaN</td>\n",
       "      <td>NaN</td>\n",
       "      <td>NaN</td>\n",
       "      <td>NaN</td>\n",
       "      <td>120.239</td>\n",
       "      <td>119.769</td>\n",
       "    </tr>\n",
       "    <tr>\n",
       "      <th>1</th>\n",
       "      <td>3687</td>\n",
       "      <td>2014-01-01 00:15:00-06</td>\n",
       "      <td>0.0</td>\n",
       "      <td>NaN</td>\n",
       "      <td>NaN</td>\n",
       "      <td>NaN</td>\n",
       "      <td>NaN</td>\n",
       "      <td>NaN</td>\n",
       "      <td>NaN</td>\n",
       "      <td>NaN</td>\n",
       "      <td>...</td>\n",
       "      <td>NaN</td>\n",
       "      <td>NaN</td>\n",
       "      <td>NaN</td>\n",
       "      <td>NaN</td>\n",
       "      <td>NaN</td>\n",
       "      <td>NaN</td>\n",
       "      <td>NaN</td>\n",
       "      <td>NaN</td>\n",
       "      <td>120.256</td>\n",
       "      <td>119.628</td>\n",
       "    </tr>\n",
       "    <tr>\n",
       "      <th>2</th>\n",
       "      <td>3687</td>\n",
       "      <td>2014-01-01 00:30:00-06</td>\n",
       "      <td>0.0</td>\n",
       "      <td>NaN</td>\n",
       "      <td>NaN</td>\n",
       "      <td>NaN</td>\n",
       "      <td>NaN</td>\n",
       "      <td>NaN</td>\n",
       "      <td>NaN</td>\n",
       "      <td>NaN</td>\n",
       "      <td>...</td>\n",
       "      <td>NaN</td>\n",
       "      <td>NaN</td>\n",
       "      <td>NaN</td>\n",
       "      <td>NaN</td>\n",
       "      <td>NaN</td>\n",
       "      <td>NaN</td>\n",
       "      <td>NaN</td>\n",
       "      <td>NaN</td>\n",
       "      <td>120.358</td>\n",
       "      <td>119.859</td>\n",
       "    </tr>\n",
       "    <tr>\n",
       "      <th>3</th>\n",
       "      <td>3687</td>\n",
       "      <td>2014-01-01 00:45:00-06</td>\n",
       "      <td>0.0</td>\n",
       "      <td>NaN</td>\n",
       "      <td>NaN</td>\n",
       "      <td>NaN</td>\n",
       "      <td>NaN</td>\n",
       "      <td>NaN</td>\n",
       "      <td>NaN</td>\n",
       "      <td>NaN</td>\n",
       "      <td>...</td>\n",
       "      <td>NaN</td>\n",
       "      <td>NaN</td>\n",
       "      <td>NaN</td>\n",
       "      <td>NaN</td>\n",
       "      <td>NaN</td>\n",
       "      <td>NaN</td>\n",
       "      <td>NaN</td>\n",
       "      <td>NaN</td>\n",
       "      <td>120.766</td>\n",
       "      <td>119.985</td>\n",
       "    </tr>\n",
       "    <tr>\n",
       "      <th>4</th>\n",
       "      <td>3687</td>\n",
       "      <td>2014-01-01 01:00:00-06</td>\n",
       "      <td>0.0</td>\n",
       "      <td>NaN</td>\n",
       "      <td>NaN</td>\n",
       "      <td>NaN</td>\n",
       "      <td>NaN</td>\n",
       "      <td>NaN</td>\n",
       "      <td>NaN</td>\n",
       "      <td>NaN</td>\n",
       "      <td>...</td>\n",
       "      <td>NaN</td>\n",
       "      <td>NaN</td>\n",
       "      <td>NaN</td>\n",
       "      <td>NaN</td>\n",
       "      <td>NaN</td>\n",
       "      <td>NaN</td>\n",
       "      <td>NaN</td>\n",
       "      <td>NaN</td>\n",
       "      <td>120.844</td>\n",
       "      <td>120.368</td>\n",
       "    </tr>\n",
       "  </tbody>\n",
       "</table>\n",
       "<p>5 rows × 79 columns</p>\n",
       "</div>"
      ],
      "text/plain": [
       "   dataid             local_15min  air1  air2  air3  airwindowunit1  \\\n",
       "0    3687  2014-01-01 00:00:00-06   0.0   NaN   NaN             NaN   \n",
       "1    3687  2014-01-01 00:15:00-06   0.0   NaN   NaN             NaN   \n",
       "2    3687  2014-01-01 00:30:00-06   0.0   NaN   NaN             NaN   \n",
       "3    3687  2014-01-01 00:45:00-06   0.0   NaN   NaN             NaN   \n",
       "4    3687  2014-01-01 01:00:00-06   0.0   NaN   NaN             NaN   \n",
       "\n",
       "   aquarium1  bathroom1  bathroom2  bedroom1  ...  sprinkler1  sumppump1  \\\n",
       "0        NaN        NaN        NaN       NaN  ...         NaN        NaN   \n",
       "1        NaN        NaN        NaN       NaN  ...         NaN        NaN   \n",
       "2        NaN        NaN        NaN       NaN  ...         NaN        NaN   \n",
       "3        NaN        NaN        NaN       NaN  ...         NaN        NaN   \n",
       "4        NaN        NaN        NaN       NaN  ...         NaN        NaN   \n",
       "\n",
       "   utilityroom1  venthood1  waterheater1  waterheater2  wellpump1  \\\n",
       "0           NaN        NaN           NaN           NaN        NaN   \n",
       "1           NaN        NaN           NaN           NaN        NaN   \n",
       "2           NaN        NaN           NaN           NaN        NaN   \n",
       "3           NaN        NaN           NaN           NaN        NaN   \n",
       "4           NaN        NaN           NaN           NaN        NaN   \n",
       "\n",
       "   winecooler1    leg1v    leg2v  \n",
       "0          NaN  120.239  119.769  \n",
       "1          NaN  120.256  119.628  \n",
       "2          NaN  120.358  119.859  \n",
       "3          NaN  120.766  119.985  \n",
       "4          NaN  120.844  120.368  \n",
       "\n",
       "[5 rows x 79 columns]"
      ]
     },
     "execution_count": 27,
     "metadata": {},
     "output_type": "execute_result"
    }
   ],
   "source": [
    "df = pd.read_csv('15minute_data_california.csv')\n",
    "df = df[['dataid', 'local_15min', 'battery1', 'grid', 'solar', 'solar2']]\n",
    "\n",
    "                   "
   ]
  },
  {
   "cell_type": "code",
   "execution_count": 6,
   "metadata": {},
   "outputs": [
    {
     "data": {
      "text/html": [
       "<div>\n",
       "<style scoped>\n",
       "    .dataframe tbody tr th:only-of-type {\n",
       "        vertical-align: middle;\n",
       "    }\n",
       "\n",
       "    .dataframe tbody tr th {\n",
       "        vertical-align: top;\n",
       "    }\n",
       "\n",
       "    .dataframe thead th {\n",
       "        text-align: right;\n",
       "    }\n",
       "</style>\n",
       "<table border=\"1\" class=\"dataframe\">\n",
       "  <thead>\n",
       "    <tr style=\"text-align: right;\">\n",
       "      <th></th>\n",
       "      <th>dataid</th>\n",
       "      <th>local_15min</th>\n",
       "      <th>battery1</th>\n",
       "      <th>grid</th>\n",
       "      <th>solar</th>\n",
       "      <th>solar2</th>\n",
       "    </tr>\n",
       "  </thead>\n",
       "  <tbody>\n",
       "    <tr>\n",
       "      <th>0</th>\n",
       "      <td>3687</td>\n",
       "      <td>2014-01-01 00:00:00-06</td>\n",
       "      <td>NaN</td>\n",
       "      <td>1.717</td>\n",
       "      <td>NaN</td>\n",
       "      <td>NaN</td>\n",
       "    </tr>\n",
       "    <tr>\n",
       "      <th>1</th>\n",
       "      <td>3687</td>\n",
       "      <td>2014-01-01 00:15:00-06</td>\n",
       "      <td>NaN</td>\n",
       "      <td>1.905</td>\n",
       "      <td>NaN</td>\n",
       "      <td>NaN</td>\n",
       "    </tr>\n",
       "    <tr>\n",
       "      <th>2</th>\n",
       "      <td>3687</td>\n",
       "      <td>2014-01-01 00:30:00-06</td>\n",
       "      <td>NaN</td>\n",
       "      <td>1.923</td>\n",
       "      <td>NaN</td>\n",
       "      <td>NaN</td>\n",
       "    </tr>\n",
       "    <tr>\n",
       "      <th>3</th>\n",
       "      <td>3687</td>\n",
       "      <td>2014-01-01 00:45:00-06</td>\n",
       "      <td>NaN</td>\n",
       "      <td>1.535</td>\n",
       "      <td>NaN</td>\n",
       "      <td>NaN</td>\n",
       "    </tr>\n",
       "    <tr>\n",
       "      <th>4</th>\n",
       "      <td>3687</td>\n",
       "      <td>2014-01-01 01:00:00-06</td>\n",
       "      <td>NaN</td>\n",
       "      <td>1.010</td>\n",
       "      <td>NaN</td>\n",
       "      <td>NaN</td>\n",
       "    </tr>\n",
       "  </tbody>\n",
       "</table>\n",
       "</div>"
      ],
      "text/plain": [
       "   dataid             local_15min  battery1   grid  solar  solar2\n",
       "0    3687  2014-01-01 00:00:00-06       NaN  1.717    NaN     NaN\n",
       "1    3687  2014-01-01 00:15:00-06       NaN  1.905    NaN     NaN\n",
       "2    3687  2014-01-01 00:30:00-06       NaN  1.923    NaN     NaN\n",
       "3    3687  2014-01-01 00:45:00-06       NaN  1.535    NaN     NaN\n",
       "4    3687  2014-01-01 01:00:00-06       NaN  1.010    NaN     NaN"
      ]
     },
     "execution_count": 6,
     "metadata": {},
     "output_type": "execute_result"
    }
   ],
   "source": [
    "df.head()"
   ]
  },
  {
   "cell_type": "code",
   "execution_count": 7,
   "metadata": {},
   "outputs": [
    {
     "data": {
      "text/plain": [
       "array([3687, 6377, 7062, 8574, 9213,  203, 1450, 1524, 2606, 3864, 7114,\n",
       "       1731, 4495, 8342, 3938, 5938, 8061, 9775, 4934, 8733, 9612, 9836,\n",
       "       6547])"
      ]
     },
     "execution_count": 7,
     "metadata": {},
     "output_type": "execute_result"
    }
   ],
   "source": [
    "df.dataid.unique()"
   ]
  },
  {
   "cell_type": "code",
   "execution_count": 49,
   "metadata": {},
   "outputs": [],
   "source": [
    "# df2 = df.loc[df.dataid.astype(int).isin(ca_ids)]\n",
    "# df.dataid.astype(int).isin(ca_ids)\n",
    "# TODO: Why are none of the IDs I want in the dataset???"
   ]
  },
  {
   "cell_type": "code",
   "execution_count": 9,
   "metadata": {},
   "outputs": [],
   "source": [
    "df2 = df.loc[df.solar.notnull()]\n",
    "df3 = df.loc[df.grid.notnull()]\n"
   ]
  },
  {
   "cell_type": "code",
   "execution_count": 24,
   "metadata": {},
   "outputs": [
    {
     "data": {
      "text/plain": [
       "Index(['dataid', 'local_15min', 'battery1', 'grid', 'solar', 'solar2'], dtype='object')"
      ]
     },
     "execution_count": 24,
     "metadata": {},
     "output_type": "execute_result"
    }
   ],
   "source": [
    "df.columns"
   ]
  },
  {
   "cell_type": "code",
   "execution_count": 25,
   "metadata": {},
   "outputs": [
    {
     "data": {
      "text/html": [
       "<div>\n",
       "<style scoped>\n",
       "    .dataframe tbody tr th:only-of-type {\n",
       "        vertical-align: middle;\n",
       "    }\n",
       "\n",
       "    .dataframe tbody tr th {\n",
       "        vertical-align: top;\n",
       "    }\n",
       "\n",
       "    .dataframe thead th {\n",
       "        text-align: right;\n",
       "    }\n",
       "</style>\n",
       "<table border=\"1\" class=\"dataframe\">\n",
       "  <thead>\n",
       "    <tr style=\"text-align: right;\">\n",
       "      <th></th>\n",
       "      <th>dataid</th>\n",
       "      <th>local_15min</th>\n",
       "      <th>battery1</th>\n",
       "      <th>grid</th>\n",
       "      <th>solar</th>\n",
       "      <th>solar2</th>\n",
       "    </tr>\n",
       "  </thead>\n",
       "  <tbody>\n",
       "    <tr>\n",
       "      <th>0</th>\n",
       "      <td>3687</td>\n",
       "      <td>2014-01-01 00:00:00-06</td>\n",
       "      <td>NaN</td>\n",
       "      <td>1.717</td>\n",
       "      <td>NaN</td>\n",
       "      <td>NaN</td>\n",
       "    </tr>\n",
       "    <tr>\n",
       "      <th>1</th>\n",
       "      <td>3687</td>\n",
       "      <td>2014-01-01 00:15:00-06</td>\n",
       "      <td>NaN</td>\n",
       "      <td>1.905</td>\n",
       "      <td>NaN</td>\n",
       "      <td>NaN</td>\n",
       "    </tr>\n",
       "    <tr>\n",
       "      <th>2</th>\n",
       "      <td>3687</td>\n",
       "      <td>2014-01-01 00:30:00-06</td>\n",
       "      <td>NaN</td>\n",
       "      <td>1.923</td>\n",
       "      <td>NaN</td>\n",
       "      <td>NaN</td>\n",
       "    </tr>\n",
       "    <tr>\n",
       "      <th>3</th>\n",
       "      <td>3687</td>\n",
       "      <td>2014-01-01 00:45:00-06</td>\n",
       "      <td>NaN</td>\n",
       "      <td>1.535</td>\n",
       "      <td>NaN</td>\n",
       "      <td>NaN</td>\n",
       "    </tr>\n",
       "    <tr>\n",
       "      <th>4</th>\n",
       "      <td>3687</td>\n",
       "      <td>2014-01-01 01:00:00-06</td>\n",
       "      <td>NaN</td>\n",
       "      <td>1.010</td>\n",
       "      <td>NaN</td>\n",
       "      <td>NaN</td>\n",
       "    </tr>\n",
       "  </tbody>\n",
       "</table>\n",
       "</div>"
      ],
      "text/plain": [
       "   dataid             local_15min  battery1   grid  solar  solar2\n",
       "0    3687  2014-01-01 00:00:00-06       NaN  1.717    NaN     NaN\n",
       "1    3687  2014-01-01 00:15:00-06       NaN  1.905    NaN     NaN\n",
       "2    3687  2014-01-01 00:30:00-06       NaN  1.923    NaN     NaN\n",
       "3    3687  2014-01-01 00:45:00-06       NaN  1.535    NaN     NaN\n",
       "4    3687  2014-01-01 01:00:00-06       NaN  1.010    NaN     NaN"
      ]
     },
     "execution_count": 25,
     "metadata": {},
     "output_type": "execute_result"
    }
   ],
   "source": [
    "df.head()"
   ]
  },
  {
   "cell_type": "code",
   "execution_count": 50,
   "metadata": {},
   "outputs": [
    {
     "data": {
      "text/html": [
       "<div>\n",
       "<style scoped>\n",
       "    .dataframe tbody tr th:only-of-type {\n",
       "        vertical-align: middle;\n",
       "    }\n",
       "\n",
       "    .dataframe tbody tr th {\n",
       "        vertical-align: top;\n",
       "    }\n",
       "\n",
       "    .dataframe thead th {\n",
       "        text-align: right;\n",
       "    }\n",
       "</style>\n",
       "<table border=\"1\" class=\"dataframe\">\n",
       "  <thead>\n",
       "    <tr style=\"text-align: right;\">\n",
       "      <th></th>\n",
       "      <th>dataid</th>\n",
       "      <th>local_15min</th>\n",
       "      <th>battery1</th>\n",
       "      <th>grid</th>\n",
       "      <th>solar</th>\n",
       "      <th>solar2</th>\n",
       "    </tr>\n",
       "  </thead>\n",
       "  <tbody>\n",
       "    <tr>\n",
       "      <th>392516</th>\n",
       "      <td>1731</td>\n",
       "      <td>2018-03-16 05:00:00-05</td>\n",
       "      <td>NaN</td>\n",
       "      <td>0.226</td>\n",
       "      <td>0.0</td>\n",
       "      <td>NaN</td>\n",
       "    </tr>\n",
       "    <tr>\n",
       "      <th>392517</th>\n",
       "      <td>1731</td>\n",
       "      <td>2018-03-16 05:15:00-05</td>\n",
       "      <td>NaN</td>\n",
       "      <td>0.257</td>\n",
       "      <td>0.0</td>\n",
       "      <td>NaN</td>\n",
       "    </tr>\n",
       "    <tr>\n",
       "      <th>392518</th>\n",
       "      <td>1731</td>\n",
       "      <td>2018-03-16 05:30:00-05</td>\n",
       "      <td>NaN</td>\n",
       "      <td>0.163</td>\n",
       "      <td>0.0</td>\n",
       "      <td>NaN</td>\n",
       "    </tr>\n",
       "    <tr>\n",
       "      <th>392519</th>\n",
       "      <td>1731</td>\n",
       "      <td>2018-03-16 05:45:00-05</td>\n",
       "      <td>NaN</td>\n",
       "      <td>0.174</td>\n",
       "      <td>0.0</td>\n",
       "      <td>NaN</td>\n",
       "    </tr>\n",
       "    <tr>\n",
       "      <th>392520</th>\n",
       "      <td>1731</td>\n",
       "      <td>2018-03-16 06:00:00-05</td>\n",
       "      <td>NaN</td>\n",
       "      <td>0.182</td>\n",
       "      <td>0.0</td>\n",
       "      <td>NaN</td>\n",
       "    </tr>\n",
       "  </tbody>\n",
       "</table>\n",
       "</div>"
      ],
      "text/plain": [
       "        dataid             local_15min  battery1   grid  solar  solar2\n",
       "392516    1731  2018-03-16 05:00:00-05       NaN  0.226    0.0     NaN\n",
       "392517    1731  2018-03-16 05:15:00-05       NaN  0.257    0.0     NaN\n",
       "392518    1731  2018-03-16 05:30:00-05       NaN  0.163    0.0     NaN\n",
       "392519    1731  2018-03-16 05:45:00-05       NaN  0.174    0.0     NaN\n",
       "392520    1731  2018-03-16 06:00:00-05       NaN  0.182    0.0     NaN"
      ]
     },
     "execution_count": 50,
     "metadata": {},
     "output_type": "execute_result"
    }
   ],
   "source": [
    "df2.head()"
   ]
  },
  {
   "cell_type": "code",
   "execution_count": 10,
   "metadata": {},
   "outputs": [
    {
     "data": {
      "text/plain": [
       "array([1731, 4495, 8342, 9836])"
      ]
     },
     "execution_count": 10,
     "metadata": {},
     "output_type": "execute_result"
    }
   ],
   "source": [
    "df2.dataid.unique()"
   ]
  },
  {
   "cell_type": "code",
   "execution_count": 11,
   "metadata": {},
   "outputs": [
    {
     "data": {
      "text/plain": [
       "array([3687, 6377, 7062, 8574, 9213,  203, 1450, 1524, 2606, 3864, 7114,\n",
       "       1731, 4495, 8342, 3938, 5938, 8061, 9775, 4934, 8733, 9612, 9836,\n",
       "       6547])"
      ]
     },
     "execution_count": 11,
     "metadata": {},
     "output_type": "execute_result"
    }
   ],
   "source": [
    "df3.dataid.unique()"
   ]
  },
  {
   "cell_type": "code",
   "execution_count": 50,
   "metadata": {},
   "outputs": [
    {
     "name": "stdout",
     "output_type": "stream",
     "text": [
      "   dataid             local_15min  battery1   grid  solar  solar2\n",
      "0    3687  2014-01-01 00:00:00-06       NaN  1.717    NaN     NaN\n",
      "1    3687  2014-01-01 00:15:00-06       NaN  1.905    NaN     NaN\n",
      "2    3687  2014-01-01 00:30:00-06       NaN  1.923    NaN     NaN\n",
      "3    3687  2014-01-01 00:45:00-06       NaN  1.535    NaN     NaN\n",
      "4    3687  2014-01-01 01:00:00-06       NaN  1.010    NaN     NaN\n",
      "       dataid             local_15min  battery1   grid  solar  solar2\n",
      "35031    3687  2014-12-31 22:45:00-06       NaN  1.697    NaN     NaN\n",
      "35032    3687  2014-12-31 23:00:00-06       NaN  2.072    NaN     NaN\n",
      "35033    3687  2014-12-31 23:15:00-06       NaN  2.198    NaN     NaN\n",
      "35034    3687  2014-12-31 23:30:00-06       NaN  2.222    NaN     NaN\n",
      "35035    3687  2014-12-31 23:45:00-06       NaN  2.210    NaN     NaN\n"
     ]
    }
   ],
   "source": [
    "test = df3.loc[df3.dataid == 3687]\n",
    "print(test.head())\n",
    "print(test.tail())"
   ]
  },
  {
   "cell_type": "code",
   "execution_count": 51,
   "metadata": {},
   "outputs": [
    {
     "name": "stdout",
     "output_type": "stream",
     "text": [
      "        dataid             local_15min  battery1   grid  solar  solar2\n",
      "736124    9836  2014-07-08 00:00:00-05       NaN  0.758  0.001     NaN\n",
      "736125    9836  2014-07-08 00:15:00-05       NaN  0.702  0.001     NaN\n",
      "736126    9836  2014-07-08 00:30:00-05       NaN  0.637  0.002     NaN\n",
      "736127    9836  2014-07-08 00:45:00-05       NaN  0.926  0.001     NaN\n",
      "736128    9836  2014-07-08 01:00:00-05       NaN  0.677  0.002     NaN\n",
      "        dataid             local_15min  battery1   grid  solar  solar2\n",
      "770483    9836  2015-06-30 22:45:00-05       NaN  0.267  0.002     NaN\n",
      "770484    9836  2015-06-30 23:00:00-05       NaN  0.605  0.000     NaN\n",
      "770485    9836  2015-06-30 23:15:00-05       NaN  0.809  0.000     NaN\n",
      "770486    9836  2015-06-30 23:30:00-05       NaN  0.407  0.001     NaN\n",
      "770487    9836  2015-06-30 23:45:00-05       NaN  0.347  0.001     NaN\n"
     ]
    }
   ],
   "source": [
    "test = df2.loc[df2.dataid == 9836]\n",
    "print(test.head())\n",
    "print(test.tail())"
   ]
  },
  {
   "cell_type": "code",
   "execution_count": 59,
   "metadata": {},
   "outputs": [
    {
     "data": {
      "text/plain": [
       "[<matplotlib.lines.Line2D at 0x2fde1e1f0>]"
      ]
     },
     "execution_count": 59,
     "metadata": {},
     "output_type": "execute_result"
    },
    {
     "data": {
      "image/png": "[encoded data removed]",
      "text/plain": [
       "<Figure size 720x576 with 1 Axes>"
      ]
     },
     "metadata": {
      "needs_background": "light"
     },
     "output_type": "display_data"
    }
   ],
   "source": [
    "plt.plot(test.grid + test.solar)"
   ]
  }
 ],
 "metadata": {
  "interpreter": {
   "hash": "0ba65a70a05ccd86223b5198e0f77d235c77b3735aba577475f078c959d11cca"
  },
  "kernelspec": {
   "display_name": "Python 3.9.5 ('tensorflow')",
   "language": "python",
   "name": "python3"
  },
  "language_info": {
   "codemirror_mode": {
    "name": "ipython",
    "version": 3
   },
   "file_extension": ".py",
   "mimetype": "text/x-python",
   "name": "python",
   "nbconvert_exporter": "python",
   "pygments_lexer": "ipython3",
   "version": "3.9.5"
  },
  "orig_nbformat": 4
 },
 "nbformat": 4,
 "nbformat_minor": 2
}
